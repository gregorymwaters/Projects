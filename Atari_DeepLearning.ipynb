{
 "cells": [
  {
   "cell_type": "code",
   "execution_count": 1,
   "id": "8e1e59c1",
   "metadata": {
    "colab": {
     "base_uri": "https://localhost:8080/"
    },
    "id": "8e1e59c1",
    "outputId": "7916fd8a-3ac7-44ea-e388-490db911ac30"
   },
   "outputs": [
    {
     "name": "stdout",
     "output_type": "stream",
     "text": [
      "Requirement already satisfied: numpy in h:\\users\\greg\\anaconda3\\lib\\site-packages (1.21.4)\n",
      "Requirement already satisfied: tensorflow in h:\\users\\greg\\anaconda3\\lib\\site-packages (2.7.0)\n",
      "Requirement already satisfied: astunparse>=1.6.0 in h:\\users\\greg\\anaconda3\\lib\\site-packages (from tensorflow) (1.6.3)\n",
      "Requirement already satisfied: h5py>=2.9.0 in h:\\users\\greg\\anaconda3\\lib\\site-packages (from tensorflow) (2.10.0)\n",
      "Requirement already satisfied: typing-extensions>=3.6.6 in h:\\users\\greg\\anaconda3\\lib\\site-packages (from tensorflow) (3.7.4.3)\n",
      "Requirement already satisfied: libclang>=9.0.1 in h:\\users\\greg\\anaconda3\\lib\\site-packages (from tensorflow) (12.0.0)\n",
      "Requirement already satisfied: wrapt>=1.11.0 in h:\\users\\greg\\anaconda3\\lib\\site-packages (from tensorflow) (1.12.1)\n",
      "Requirement already satisfied: tensorboard~=2.6 in h:\\users\\greg\\anaconda3\\lib\\site-packages (from tensorflow) (2.7.0)\n",
      "Requirement already satisfied: protobuf>=3.9.2 in h:\\users\\greg\\anaconda3\\lib\\site-packages (from tensorflow) (3.19.1)\n",
      "Requirement already satisfied: termcolor>=1.1.0 in h:\\users\\greg\\anaconda3\\lib\\site-packages (from tensorflow) (1.1.0)\n",
      "Requirement already satisfied: keras-preprocessing>=1.1.1 in h:\\users\\greg\\anaconda3\\lib\\site-packages (from tensorflow) (1.1.2)\n",
      "Requirement already satisfied: six>=1.12.0 in h:\\users\\greg\\anaconda3\\lib\\site-packages (from tensorflow) (1.15.0)\n",
      "Requirement already satisfied: google-pasta>=0.1.1 in h:\\users\\greg\\anaconda3\\lib\\site-packages (from tensorflow) (0.2.0)\n",
      "Requirement already satisfied: keras<2.8,>=2.7.0rc0 in h:\\users\\greg\\anaconda3\\lib\\site-packages (from tensorflow) (2.7.0)\n",
      "Requirement already satisfied: absl-py>=0.4.0 in h:\\users\\greg\\anaconda3\\lib\\site-packages (from tensorflow) (1.0.0)\n",
      "Requirement already satisfied: tensorflow-estimator<2.8,~=2.7.0rc0 in h:\\users\\greg\\anaconda3\\lib\\site-packages (from tensorflow) (2.7.0)\n",
      "Requirement already satisfied: gast<0.5.0,>=0.2.1 in h:\\users\\greg\\anaconda3\\lib\\site-packages (from tensorflow) (0.4.0)\n",
      "Requirement already satisfied: flatbuffers<3.0,>=1.12 in h:\\users\\greg\\anaconda3\\lib\\site-packages (from tensorflow) (2.0)\n",
      "Requirement already satisfied: opt-einsum>=2.3.2 in h:\\users\\greg\\anaconda3\\lib\\site-packages (from tensorflow) (3.3.0)\n",
      "Requirement already satisfied: grpcio<2.0,>=1.24.3 in h:\\users\\greg\\anaconda3\\lib\\site-packages (from tensorflow) (1.42.0)\n",
      "Requirement already satisfied: tensorflow-io-gcs-filesystem>=0.21.0 in h:\\users\\greg\\anaconda3\\lib\\site-packages (from tensorflow) (0.22.0)\n",
      "Requirement already satisfied: numpy>=1.14.5 in h:\\users\\greg\\anaconda3\\lib\\site-packages (from tensorflow) (1.21.4)\n",
      "Requirement already satisfied: wheel<1.0,>=0.32.0 in h:\\users\\greg\\anaconda3\\lib\\site-packages (from tensorflow) (0.36.2)\n",
      "Requirement already satisfied: werkzeug>=0.11.15 in h:\\users\\greg\\anaconda3\\lib\\site-packages (from tensorboard~=2.6->tensorflow) (1.0.1)\n",
      "Requirement already satisfied: tensorboard-data-server<0.7.0,>=0.6.0 in h:\\users\\greg\\anaconda3\\lib\\site-packages (from tensorboard~=2.6->tensorflow) (0.6.1)\n",
      "Requirement already satisfied: markdown>=2.6.8 in h:\\users\\greg\\anaconda3\\lib\\site-packages (from tensorboard~=2.6->tensorflow) (3.3.6)\n",
      "Requirement already satisfied: google-auth<3,>=1.6.3 in h:\\users\\greg\\anaconda3\\lib\\site-packages (from tensorboard~=2.6->tensorflow) (2.3.3)\n",
      "Requirement already satisfied: requests<3,>=2.21.0 in h:\\users\\greg\\anaconda3\\lib\\site-packages (from tensorboard~=2.6->tensorflow) (2.25.1)\n",
      "Requirement already satisfied: google-auth-oauthlib<0.5,>=0.4.1 in h:\\users\\greg\\anaconda3\\lib\\site-packages (from tensorboard~=2.6->tensorflow) (0.4.6)\n",
      "Requirement already satisfied: tensorboard-plugin-wit>=1.6.0 in h:\\users\\greg\\anaconda3\\lib\\site-packages (from tensorboard~=2.6->tensorflow) (1.8.0)\n",
      "Requirement already satisfied: setuptools>=41.0.0 in h:\\users\\greg\\anaconda3\\lib\\site-packages (from tensorboard~=2.6->tensorflow) (52.0.0.post20210125)\n",
      "Requirement already satisfied: pyasn1-modules>=0.2.1 in h:\\users\\greg\\anaconda3\\lib\\site-packages (from google-auth<3,>=1.6.3->tensorboard~=2.6->tensorflow) (0.2.8)\n",
      "Requirement already satisfied: rsa<5,>=3.1.4 in h:\\users\\greg\\anaconda3\\lib\\site-packages (from google-auth<3,>=1.6.3->tensorboard~=2.6->tensorflow) (4.8)\n",
      "Requirement already satisfied: cachetools<5.0,>=2.0.0 in h:\\users\\greg\\anaconda3\\lib\\site-packages (from google-auth<3,>=1.6.3->tensorboard~=2.6->tensorflow) (4.2.4)\n",
      "Requirement already satisfied: requests-oauthlib>=0.7.0 in h:\\users\\greg\\anaconda3\\lib\\site-packages (from google-auth-oauthlib<0.5,>=0.4.1->tensorboard~=2.6->tensorflow) (1.3.0)\n",
      "Requirement already satisfied: importlib-metadata>=4.4 in h:\\users\\greg\\anaconda3\\lib\\site-packages (from markdown>=2.6.8->tensorboard~=2.6->tensorflow) (4.8.2)\n",
      "Requirement already satisfied: zipp>=0.5 in h:\\users\\greg\\anaconda3\\lib\\site-packages (from importlib-metadata>=4.4->markdown>=2.6.8->tensorboard~=2.6->tensorflow) (3.4.1)\n",
      "Requirement already satisfied: pyasn1<0.5.0,>=0.4.6 in h:\\users\\greg\\anaconda3\\lib\\site-packages (from pyasn1-modules>=0.2.1->google-auth<3,>=1.6.3->tensorboard~=2.6->tensorflow) (0.4.8)\n",
      "Requirement already satisfied: urllib3<1.27,>=1.21.1 in h:\\users\\greg\\anaconda3\\lib\\site-packages (from requests<3,>=2.21.0->tensorboard~=2.6->tensorflow) (1.26.4)\n",
      "Requirement already satisfied: idna<3,>=2.5 in h:\\users\\greg\\anaconda3\\lib\\site-packages (from requests<3,>=2.21.0->tensorboard~=2.6->tensorflow) (2.10)\n",
      "Requirement already satisfied: chardet<5,>=3.0.2 in h:\\users\\greg\\anaconda3\\lib\\site-packages (from requests<3,>=2.21.0->tensorboard~=2.6->tensorflow) (4.0.0)\n",
      "Requirement already satisfied: certifi>=2017.4.17 in h:\\users\\greg\\anaconda3\\lib\\site-packages (from requests<3,>=2.21.0->tensorboard~=2.6->tensorflow) (2020.12.5)\n",
      "Requirement already satisfied: oauthlib>=3.0.0 in h:\\users\\greg\\anaconda3\\lib\\site-packages (from requests-oauthlib>=0.7.0->google-auth-oauthlib<0.5,>=0.4.1->tensorboard~=2.6->tensorflow) (3.1.1)\n",
      "Note: you may need to restart the kernel to use updated packages.\n",
      "Requirement already satisfied: gym[accept-rom-license,atari] in h:\\users\\greg\\anaconda3\\lib\\site-packages (0.21.0)\n",
      "Requirement already satisfied: cloudpickle>=1.2.0 in h:\\users\\greg\\anaconda3\\lib\\site-packages (from gym[accept-rom-license,atari]) (1.6.0)\n",
      "Requirement already satisfied: numpy>=1.18.0 in h:\\users\\greg\\anaconda3\\lib\\site-packages (from gym[accept-rom-license,atari]) (1.21.4)\n",
      "Requirement already satisfied: ale-py~=0.7.1 in h:\\users\\greg\\anaconda3\\lib\\site-packages (from gym[accept-rom-license,atari]) (0.7.3)\n",
      "Requirement already satisfied: autorom[accept-rom-license]~=0.4.2 in h:\\users\\greg\\anaconda3\\lib\\site-packages (from gym[accept-rom-license,atari]) (0.4.2)\n",
      "Requirement already satisfied: importlib-resources in h:\\users\\greg\\anaconda3\\lib\\site-packages (from ale-py~=0.7.1->gym[accept-rom-license,atari]) (5.4.0)\n",
      "Requirement already satisfied: tqdm in h:\\users\\greg\\anaconda3\\lib\\site-packages (from autorom[accept-rom-license]~=0.4.2->gym[accept-rom-license,atari]) (4.59.0)\n",
      "Requirement already satisfied: click in h:\\users\\greg\\anaconda3\\lib\\site-packages (from autorom[accept-rom-license]~=0.4.2->gym[accept-rom-license,atari]) (7.1.2)\n",
      "Requirement already satisfied: requests in h:\\users\\greg\\anaconda3\\lib\\site-packages (from autorom[accept-rom-license]~=0.4.2->gym[accept-rom-license,atari]) (2.25.1)\n",
      "Requirement already satisfied: AutoROM.accept-rom-license in h:\\users\\greg\\anaconda3\\lib\\site-packages (from autorom[accept-rom-license]~=0.4.2->gym[accept-rom-license,atari]) (0.4.2)\n",
      "Requirement already satisfied: zipp>=3.1.0 in h:\\users\\greg\\anaconda3\\lib\\site-packages (from importlib-resources->ale-py~=0.7.1->gym[accept-rom-license,atari]) (3.4.1)\n",
      "Requirement already satisfied: idna<3,>=2.5 in h:\\users\\greg\\anaconda3\\lib\\site-packages (from requests->autorom[accept-rom-license]~=0.4.2->gym[accept-rom-license,atari]) (2.10)\n",
      "Requirement already satisfied: chardet<5,>=3.0.2 in h:\\users\\greg\\anaconda3\\lib\\site-packages (from requests->autorom[accept-rom-license]~=0.4.2->gym[accept-rom-license,atari]) (4.0.0)\n",
      "Requirement already satisfied: urllib3<1.27,>=1.21.1 in h:\\users\\greg\\anaconda3\\lib\\site-packages (from requests->autorom[accept-rom-license]~=0.4.2->gym[accept-rom-license,atari]) (1.26.4)\n",
      "Requirement already satisfied: certifi>=2017.4.17 in h:\\users\\greg\\anaconda3\\lib\\site-packages (from requests->autorom[accept-rom-license]~=0.4.2->gym[accept-rom-license,atari]) (2020.12.5)\n",
      "Note: you may need to restart the kernel to use updated packages.\n",
      "Requirement already satisfied: pyglet in h:\\users\\greg\\anaconda3\\lib\\site-packages (1.5.21)\n",
      "Requirement already satisfied: keras-rl2 in h:\\users\\greg\\anaconda3\\lib\\site-packages (1.0.5)\n",
      "Requirement already satisfied: tensorflow in h:\\users\\greg\\anaconda3\\lib\\site-packages (from keras-rl2) (2.7.0)\n",
      "Requirement already satisfied: google-pasta>=0.1.1 in h:\\users\\greg\\anaconda3\\lib\\site-packages (from tensorflow->keras-rl2) (0.2.0)\n",
      "Requirement already satisfied: protobuf>=3.9.2 in h:\\users\\greg\\anaconda3\\lib\\site-packages (from tensorflow->keras-rl2) (3.19.1)\n",
      "Requirement already satisfied: flatbuffers<3.0,>=1.12 in h:\\users\\greg\\anaconda3\\lib\\site-packages (from tensorflow->keras-rl2) (2.0)\n",
      "Requirement already satisfied: grpcio<2.0,>=1.24.3 in h:\\users\\greg\\anaconda3\\lib\\site-packages (from tensorflow->keras-rl2) (1.42.0)\n",
      "Requirement already satisfied: six>=1.12.0 in h:\\users\\greg\\anaconda3\\lib\\site-packages (from tensorflow->keras-rl2) (1.15.0)\n",
      "Requirement already satisfied: wheel<1.0,>=0.32.0 in h:\\users\\greg\\anaconda3\\lib\\site-packages (from tensorflow->keras-rl2) (0.36.2)\n",
      "Requirement already satisfied: termcolor>=1.1.0 in h:\\users\\greg\\anaconda3\\lib\\site-packages (from tensorflow->keras-rl2) (1.1.0)\n",
      "Requirement already satisfied: keras<2.8,>=2.7.0rc0 in h:\\users\\greg\\anaconda3\\lib\\site-packages (from tensorflow->keras-rl2) (2.7.0)\n",
      "Requirement already satisfied: typing-extensions>=3.6.6 in h:\\users\\greg\\anaconda3\\lib\\site-packages (from tensorflow->keras-rl2) (3.7.4.3)\n",
      "Requirement already satisfied: wrapt>=1.11.0 in h:\\users\\greg\\anaconda3\\lib\\site-packages (from tensorflow->keras-rl2) (1.12.1)\n",
      "Requirement already satisfied: tensorflow-estimator<2.8,~=2.7.0rc0 in h:\\users\\greg\\anaconda3\\lib\\site-packages (from tensorflow->keras-rl2) (2.7.0)\n",
      "Requirement already satisfied: numpy>=1.14.5 in h:\\users\\greg\\anaconda3\\lib\\site-packages (from tensorflow->keras-rl2) (1.21.4)\n",
      "Requirement already satisfied: tensorflow-io-gcs-filesystem>=0.21.0 in h:\\users\\greg\\anaconda3\\lib\\site-packages (from tensorflow->keras-rl2) (0.22.0)\n",
      "Requirement already satisfied: absl-py>=0.4.0 in h:\\users\\greg\\anaconda3\\lib\\site-packages (from tensorflow->keras-rl2) (1.0.0)\n",
      "Requirement already satisfied: tensorboard~=2.6 in h:\\users\\greg\\anaconda3\\lib\\site-packages (from tensorflow->keras-rl2) (2.7.0)\n",
      "Requirement already satisfied: keras-preprocessing>=1.1.1 in h:\\users\\greg\\anaconda3\\lib\\site-packages (from tensorflow->keras-rl2) (1.1.2)\n",
      "Requirement already satisfied: h5py>=2.9.0 in h:\\users\\greg\\anaconda3\\lib\\site-packages (from tensorflow->keras-rl2) (2.10.0)\n",
      "Requirement already satisfied: libclang>=9.0.1 in h:\\users\\greg\\anaconda3\\lib\\site-packages (from tensorflow->keras-rl2) (12.0.0)\n",
      "Requirement already satisfied: astunparse>=1.6.0 in h:\\users\\greg\\anaconda3\\lib\\site-packages (from tensorflow->keras-rl2) (1.6.3)\n",
      "Requirement already satisfied: gast<0.5.0,>=0.2.1 in h:\\users\\greg\\anaconda3\\lib\\site-packages (from tensorflow->keras-rl2) (0.4.0)\n",
      "Requirement already satisfied: opt-einsum>=2.3.2 in h:\\users\\greg\\anaconda3\\lib\\site-packages (from tensorflow->keras-rl2) (3.3.0)\n",
      "Requirement already satisfied: tensorboard-data-server<0.7.0,>=0.6.0 in h:\\users\\greg\\anaconda3\\lib\\site-packages (from tensorboard~=2.6->tensorflow->keras-rl2) (0.6.1)\n",
      "Requirement already satisfied: werkzeug>=0.11.15 in h:\\users\\greg\\anaconda3\\lib\\site-packages (from tensorboard~=2.6->tensorflow->keras-rl2) (1.0.1)\n",
      "Requirement already satisfied: requests<3,>=2.21.0 in h:\\users\\greg\\anaconda3\\lib\\site-packages (from tensorboard~=2.6->tensorflow->keras-rl2) (2.25.1)\n",
      "Requirement already satisfied: google-auth<3,>=1.6.3 in h:\\users\\greg\\anaconda3\\lib\\site-packages (from tensorboard~=2.6->tensorflow->keras-rl2) (2.3.3)\n",
      "Requirement already satisfied: google-auth-oauthlib<0.5,>=0.4.1 in h:\\users\\greg\\anaconda3\\lib\\site-packages (from tensorboard~=2.6->tensorflow->keras-rl2) (0.4.6)\n",
      "Requirement already satisfied: setuptools>=41.0.0 in h:\\users\\greg\\anaconda3\\lib\\site-packages (from tensorboard~=2.6->tensorflow->keras-rl2) (52.0.0.post20210125)\n",
      "Requirement already satisfied: markdown>=2.6.8 in h:\\users\\greg\\anaconda3\\lib\\site-packages (from tensorboard~=2.6->tensorflow->keras-rl2) (3.3.6)\n",
      "Requirement already satisfied: tensorboard-plugin-wit>=1.6.0 in h:\\users\\greg\\anaconda3\\lib\\site-packages (from tensorboard~=2.6->tensorflow->keras-rl2) (1.8.0)\n",
      "Requirement already satisfied: rsa<5,>=3.1.4 in h:\\users\\greg\\anaconda3\\lib\\site-packages (from google-auth<3,>=1.6.3->tensorboard~=2.6->tensorflow->keras-rl2) (4.8)\n",
      "Requirement already satisfied: pyasn1-modules>=0.2.1 in h:\\users\\greg\\anaconda3\\lib\\site-packages (from google-auth<3,>=1.6.3->tensorboard~=2.6->tensorflow->keras-rl2) (0.2.8)\n",
      "Requirement already satisfied: cachetools<5.0,>=2.0.0 in h:\\users\\greg\\anaconda3\\lib\\site-packages (from google-auth<3,>=1.6.3->tensorboard~=2.6->tensorflow->keras-rl2) (4.2.4)\n",
      "Requirement already satisfied: requests-oauthlib>=0.7.0 in h:\\users\\greg\\anaconda3\\lib\\site-packages (from google-auth-oauthlib<0.5,>=0.4.1->tensorboard~=2.6->tensorflow->keras-rl2) (1.3.0)\n",
      "Requirement already satisfied: importlib-metadata>=4.4 in h:\\users\\greg\\anaconda3\\lib\\site-packages (from markdown>=2.6.8->tensorboard~=2.6->tensorflow->keras-rl2) (4.8.2)\n",
      "Requirement already satisfied: zipp>=0.5 in h:\\users\\greg\\anaconda3\\lib\\site-packages (from importlib-metadata>=4.4->markdown>=2.6.8->tensorboard~=2.6->tensorflow->keras-rl2) (3.4.1)\n",
      "Requirement already satisfied: pyasn1<0.5.0,>=0.4.6 in h:\\users\\greg\\anaconda3\\lib\\site-packages (from pyasn1-modules>=0.2.1->google-auth<3,>=1.6.3->tensorboard~=2.6->tensorflow->keras-rl2) (0.4.8)\n",
      "Requirement already satisfied: urllib3<1.27,>=1.21.1 in h:\\users\\greg\\anaconda3\\lib\\site-packages (from requests<3,>=2.21.0->tensorboard~=2.6->tensorflow->keras-rl2) (1.26.4)\n",
      "Requirement already satisfied: idna<3,>=2.5 in h:\\users\\greg\\anaconda3\\lib\\site-packages (from requests<3,>=2.21.0->tensorboard~=2.6->tensorflow->keras-rl2) (2.10)\n",
      "Requirement already satisfied: certifi>=2017.4.17 in h:\\users\\greg\\anaconda3\\lib\\site-packages (from requests<3,>=2.21.0->tensorboard~=2.6->tensorflow->keras-rl2) (2020.12.5)\n",
      "Requirement already satisfied: chardet<5,>=3.0.2 in h:\\users\\greg\\anaconda3\\lib\\site-packages (from requests<3,>=2.21.0->tensorboard~=2.6->tensorflow->keras-rl2) (4.0.0)\n",
      "Requirement already satisfied: oauthlib>=3.0.0 in h:\\users\\greg\\anaconda3\\lib\\site-packages (from requests-oauthlib>=0.7.0->google-auth-oauthlib<0.5,>=0.4.1->tensorboard~=2.6->tensorflow->keras-rl2) (3.1.1)\n"
     ]
    }
   ],
   "source": [
    "#Do not install gym globally, causes many reference errors and crashes the kernal\n",
    "!pip install numpy --upgrade\n",
    "!pip install tensorflow\n",
    "%pip install -U gym>=0.21.0\n",
    "%pip install -U gym[atari,accept-rom-license]\n",
    "!pip install pyglet\n",
    "!pip install keras-rl2"
   ]
  },
  {
   "cell_type": "code",
   "execution_count": 6,
   "id": "4f5c161c",
   "metadata": {
    "id": "4f5c161c"
   },
   "outputs": [],
   "source": [
    "import gym\n",
    "import numpy as np\n",
    "from tensorflow.keras.models import Sequential\n",
    "from tensorflow.keras.layers import Dense, Flatten, Convolution2D\n",
    "from tensorflow.keras.optimizers import Adam\n",
    "from rl.agents import DQNAgent, CEMAgent, SARSAAgent\n",
    "from rl.memory import SequentialMemory\n",
    "from rl.policy import LinearAnnealedPolicy, EpsGreedyQPolicy"
   ]
  },
  {
   "cell_type": "code",
   "execution_count": 7,
   "id": "fI5AW5dV_fZz",
   "metadata": {
    "id": "fI5AW5dV_fZz"
   },
   "outputs": [],
   "source": [
    "#DO NOT TOUCH THE NUMBERS\n",
    "#Tensor\n",
    "def build_model(height, width, channels, actions):\n",
    "    model = Sequential()\n",
    "    model.add(Convolution2D(32, (8,8), strides=(4,4), activation='relu', input_shape=(3,height, width, channels)))\n",
    "    model.add(Convolution2D(64, (4,4), strides=(2,2), activation='relu'))\n",
    "    model.add(Convolution2D(64, (3,3), strides=(1,1) activation='relu'))\n",
    "    model.add(Flatten())\n",
    "    model.add(Dense(512, activation='relu'))\n",
    "    # V This may be uneccesary V\n",
    "    model.add(Dense(256, activation='relu'))\n",
    "    model.add(Dense(actions, activation='linear'))\n",
    "    return model\n",
    "\n",
    "#Tensor\n",
    "#Model with the 256 dense filter removed, doesn't seem to change much, might be useful for large number of steps\n",
    "def build_model_O(height, width, channels, actions):\n",
    "    model = Sequential()\n",
    "    model.add(Convolution2D(32, (8, 8), strides=(4, 4), activation='relu', input_shape=(3,height, width, channels)))\n",
    "    model.add(Convolution2D(64, (4, 4), strides=(2, 2), activation='relu'))\n",
    "    model.add(Convolution2D(64, (3, 3), strides=(1, 1), activation='relu'))\n",
    "    model.add(Flatten())\n",
    "    model.add(Dense(512), activation='relu')\n",
    "    model.add(Dense(actions), activation='linear')\n",
    "    return model\n",
    "\n",
    "def build_agent(model, actions):\n",
    "    #Epislon Greedy implimentation, epislon goes from max to min over the steps to make sure it doesn't stop doing random inputs, test can be changed .1 or .2 seem to work best\n",
    "    #Tensor\n",
    "    \n",
    "    #Just using Epsilon\n",
    "    #policy = EpsGreedyQPolicy()\n",
    "    \n",
    "    #Using LinearAnnealment\n",
    "    policy = LinearAnnealedPolicy(EpsGreedyQPolicy(), attr='eps', value_max=1., value_min=.1, value_test=.2, nb_steps=10000)\n",
    "    #rl\n",
    "    #Counts EPISODES not training frames\n",
    "    memory = SequentialMemory(limit=1000, window_length=3)\n",
    "    #rl\n",
    "    #If doing smaller runs, smaller warmup steps works better\n",
    "    dqn = DQNAgent(model=model, policy=policy, memory=memory, enable_dueling_network=True, dueling_type='avg', nb_actions=actions, nb_steps_warmup=100)\n",
    "    return dqn"
   ]
  },
  {
   "cell_type": "code",
   "execution_count": 8,
   "id": "ece9d7bb",
   "metadata": {
    "id": "ece9d7bb"
   },
   "outputs": [],
   "source": [
    "#gym\n",
    "env = gym.make('Seaquest-v0')\n",
    "height, width, channels = env.observation_space.shape\n",
    "actions = env.action_space.n\n",
    "#CNN model compiler, check model.summary if something goes wrong\n",
    "model = build_model(height, width, channels, actions)\n",
    "#Google is wrong, use .0001, not .000025, takes forever\n",
    "optimizer = Adam(learning_rate=.0001)"
   ]
  },
  {
   "cell_type": "code",
   "execution_count": 9,
   "id": "pT8iIzCm_uZ_",
   "metadata": {
    "colab": {
     "base_uri": "https://localhost:8080/"
    },
    "id": "pT8iIzCm_uZ_",
    "outputId": "f5ae77db-f2e1-43d6-9207-cc55cebee248"
   },
   "outputs": [
    {
     "name": "stdout",
     "output_type": "stream",
     "text": [
      "Training for 5000 steps ...\n",
      "Interval 1 (0 steps performed)\n"
     ]
    },
    {
     "name": "stderr",
     "output_type": "stream",
     "text": [
      "H:\\Users\\Greg\\anaconda3\\lib\\site-packages\\keras\\engine\\training_v1.py:2079: UserWarning: `Model.state_updates` will be removed in a future version. This property should not be used in TensorFlow 2.0, as `updates` are applied automatically.\n",
      "  updates=self.state_updates,\n"
     ]
    },
    {
     "name": "stdout",
     "output_type": "stream",
     "text": [
      "1000/1000 [==============================] - 1488s 1s/step - reward: 0.1400\n",
      "1 episodes - episode_reward: 80.000 [80.000, 80.000] - loss: 11.679 - mean_q: 21.440 - mean_eps: 0.950 - lives: 3.097\n",
      "\n",
      "Interval 2 (1000 steps performed)\n",
      "1000/1000 [==============================] - 1677s 2s/step - reward: 0.1200\n",
      "1 episodes - episode_reward: 100.000 [100.000, 100.000] - loss: 0.419 - mean_q: 20.671 - mean_eps: 0.865 - lives: 2.159\n",
      "\n",
      "Interval 3 (2000 steps performed)\n",
      "1000/1000 [==============================] - 1694s 2s/step - reward: 0.1600\n",
      "1 episodes - episode_reward: 160.000 [160.000, 160.000] - loss: 0.414 - mean_q: 21.005 - mean_eps: 0.775 - lives: 2.601\n",
      "\n",
      "Interval 4 (3000 steps performed)\n",
      " 268/1000 [=======>......................] - ETA: 22:39 - reward: 0.0746done, took 5356.424 seconds\n"
     ]
    }
   ],
   "source": [
    "#Only used for multi tier training\n",
    "total_steps = 0\n",
    "#The number of steps to train for in one session\n",
    "next_steps = 5000\n",
    "#Auto updates filepath to save multiple segments of the same run\n",
    "file_path = 'Weights/'+str(total_steps + next_steps)+'DQN.h5f'\n",
    "#This is prone to crashing, delete and rebuild the model to fix most issues\n",
    "dqn = build_agent(model, actions)\n",
    "#Optimizer Adam declared with other variables at the top of the program\n",
    "dqn.compile(optimizer)\n",
    "#Main training portion this takes a LONG time to complete and uses a lot of PC resources\n",
    "dqn.fit(env, nb_steps=next_steps, action_repetition=1, visualize=False, verbose=1, log_interval=1000)\n",
    "#Saves weights to path\n",
    "dqn.save_weights(file_path)"
   ]
  },
  {
   "cell_type": "code",
   "execution_count": 22,
   "id": "861dbf21-06c5-413e-a74c-abf2cc2f2234",
   "metadata": {},
   "outputs": [
    {
     "name": "stdout",
     "output_type": "stream",
     "text": [
      "Testing for 2 episodes ...\n",
      "Episode 1: reward: 140.000, steps: 987\n",
      "Episode 2: reward: 120.000, steps: 706\n",
      "130.0\n"
     ]
    }
   ],
   "source": [
    "#Testing portion\n",
    "#visualize=True only works locally, DOES NOT WORK on Google Colab\n",
    "test_scores = dqn.test(env, nb_episodes=2, visualize=True)\n",
    "env.close()\n",
    "print(np.mean(test_scores.history['episode_reward']))"
   ]
  },
  {
   "cell_type": "code",
   "execution_count": 16,
   "id": "27efd5ba-79a7-4509-9a0b-566d533fc7dc",
   "metadata": {},
   "outputs": [],
   "source": [
    "#Loads saved weights\n",
    "dqn.load_weights('Weights/5kDQN.h5f')"
   ]
  },
  {
   "cell_type": "code",
   "execution_count": 5,
   "id": "a52d95f9-e0f6-4e09-96c6-60c021130b56",
   "metadata": {},
   "outputs": [
    {
     "ename": "NameError",
     "evalue": "name 'dqn' is not defined",
     "output_type": "error",
     "traceback": [
      "\u001b[1;31m---------------------------------------------------------------------------\u001b[0m",
      "\u001b[1;31mNameError\u001b[0m                                 Traceback (most recent call last)",
      "\u001b[1;32m<ipython-input-5-fa8baaf24eae>\u001b[0m in \u001b[0;36m<module>\u001b[1;34m\u001b[0m\n\u001b[1;32m----> 1\u001b[1;33m \u001b[0mdqn\u001b[0m\u001b[1;33m.\u001b[0m\u001b[0msave_weights\u001b[0m\u001b[1;33m(\u001b[0m\u001b[1;34m'Weights/this.h5f'\u001b[0m\u001b[1;33m)\u001b[0m\u001b[1;33m\u001b[0m\u001b[1;33m\u001b[0m\u001b[0m\n\u001b[0m",
      "\u001b[1;31mNameError\u001b[0m: name 'dqn' is not defined"
     ]
    }
   ],
   "source": [
    "#Manually saves current environmental weights to path\n",
    "dqn.save_weights('Weights/this.h5f')"
   ]
  },
  {
   "cell_type": "code",
   "execution_count": null,
   "id": "aa54084a-ff5c-434c-8f98-0abaeb076332",
   "metadata": {},
   "outputs": [],
   "source": []
  }
 ],
 "metadata": {
  "colab": {
   "collapsed_sections": [],
   "name": "Untitled.ipynb",
   "provenance": []
  },
  "kernelspec": {
   "display_name": "Python 3",
   "language": "python",
   "name": "python3"
  },
  "language_info": {
   "codemirror_mode": {
    "name": "ipython",
    "version": 3
   },
   "file_extension": ".py",
   "mimetype": "text/x-python",
   "name": "python",
   "nbconvert_exporter": "python",
   "pygments_lexer": "ipython3",
   "version": "3.8.8"
  }
 },
 "nbformat": 4,
 "nbformat_minor": 5
}
